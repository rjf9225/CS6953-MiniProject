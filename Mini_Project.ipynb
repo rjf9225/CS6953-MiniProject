{
  "cells": [
    {
      "cell_type": "markdown",
      "metadata": {
        "id": "kAz4WR4D00bY"
      },
      "source": [
        "# Deep Learning Mini Project, Spring 2023\n",
        "\n",
        "Authors: Nico Colosso, Richard Fu, Lenox Hsu"
      ]
    },
    {
      "cell_type": "code",
      "execution_count": 1,
      "metadata": {
        "id": "iOAQrEOy1wty"
      },
      "outputs": [],
      "source": [
        "import torch\n",
        "import torch.nn as nn\n",
        "import torch.nn.functional as F\n",
        "import torch.optim as optim\n",
        "import torch.utils.data as data\n",
        "\n",
        "import torchvision\n",
        "import torchvision.transforms as transforms\n",
        "import torchvision.datasets as datasets\n",
        "from torchsummary import summary\n",
        "\n",
        "import matplotlib.pyplot as plt\n",
        "import numpy as np\n",
        "\n",
        "import time\n",
        "import random"
      ]
    },
    {
      "cell_type": "markdown",
      "metadata": {
        "id": "kxBzRRSq0y9l"
      },
      "source": [
        "## The Residual Building Block\n",
        "\n",
        "- 2 Weight Layers\n",
        "  - Layer 1: $Conv → BatchNorm → ReLU$\n",
        "  - Layer 2: $Conv → BatchNorm → SkippedConnection → ReLU$\n",
        "\n",
        "We need to include a stride parameter in Weight Layer 1, as Residual Layers 2, 3, and 4 all have strides of 2 in the first Weight Layer of the first Building Block.\n",
        "\n",
        "We also need to include padding on both Convolutional layers to address the mismatch in dimensions caused by applying the convolutions, as we discussed in recitation."
      ]
    },
    {
      "cell_type": "code",
      "execution_count": 2,
      "metadata": {
        "id": "GBSnR_CJ1BMl"
      },
      "outputs": [],
      "source": [
        "class BuildingBlock(nn.Module):\n",
        "  def __init__(self, in_channels, out_channels, kernel_size, stride=1, downsample=None):\n",
        "    super(BuildingBlock, self).__init__()\n",
        "    self.downsample = downsample\n",
        "\n",
        "    # Layer 1\n",
        "    self.conv1 = nn.Conv2d(in_channels=in_channels, out_channels=out_channels, kernel_size=kernel_size, stride=stride, padding=1)\n",
        "    self.bn1 = nn.BatchNorm2d(out_channels)\n",
        "    self.relu1 = nn.ReLU(inplace=True)\n",
        "    \n",
        "    # Layer 2\n",
        "    self.conv2 = nn.Conv2d(in_channels=out_channels, out_channels=out_channels, kernel_size=kernel_size, padding=1)\n",
        "    self.bn2 = nn.BatchNorm2d(out_channels)\n",
        "    self.relu2 = nn.ReLU(inplace=True)\n",
        "\n",
        "  def forward(self, x):\n",
        "    identity = x\n",
        "\n",
        "    # Layer 1\n",
        "    out = self.conv1(x)\n",
        "    out = self.bn1(out)\n",
        "    out = self.relu1(out)\n",
        "\n",
        "    # Layer 2\n",
        "    out = self.conv2(out)\n",
        "    out = self.bn2(out)\n",
        "\n",
        "    if self.downsample is not None:\n",
        "      identity = self.downsample(x)\n",
        "\n",
        "    out += identity\n",
        "    out = self.relu2(out)\n",
        "\n",
        "    return out"
      ]
    },
    {
      "cell_type": "markdown",
      "metadata": {
        "id": "fpGBTAi4JSJG"
      },
      "source": [
        "We will test our BuildingBlock module on a randomly populated tensor. We will simulate the first block of Residual Layer 2, which accepts an input image of size 32x32 with 64 channels and outputs a 16x16 image with 128 channels, to see if we get the expected output dimensions."
      ]
    },
    {
      "cell_type": "code",
      "execution_count": 3,
      "metadata": {
        "colab": {
          "base_uri": "https://localhost:8080/"
        },
        "id": "o0f-VhsA9h9z",
        "outputId": "1dd8e9c2-261c-4541-fd4f-c88e1663e830"
      },
      "outputs": [
        {
          "output_type": "stream",
          "name": "stdout",
          "text": [
            "x shape (expected: 1 x 64 x 32 x 32)\n",
            "torch.Size([1, 64, 32, 32])\n",
            "\n",
            "y shape (expected: 1 x 128 x 16 x 16)\n",
            "torch.Size([1, 128, 16, 16])\n"
          ]
        }
      ],
      "source": [
        "IN_CHANNELS = 64\n",
        "OUT_CHANNELS = 128\n",
        "CONV_KERNEL_SIZE = 3\n",
        "SKIP_KERNEL_SIZE = 1\n",
        "\n",
        "x = torch.randn(1, IN_CHANNELS, 32, 32)\n",
        "print(f\"x shape (expected: 1 x 64 x 32 x 32)\\n{x.shape}\\n\")\n",
        "\n",
        "\n",
        "# We need to define the downsample module\n",
        "DOWNSAMPLE = nn.Sequential(\n",
        "    nn.Conv2d(in_channels=IN_CHANNELS, out_channels=OUT_CHANNELS, kernel_size=SKIP_KERNEL_SIZE, stride=2, bias=False),\n",
        "    nn.BatchNorm2d(OUT_CHANNELS)\n",
        ")\n",
        "\n",
        "block = BuildingBlock(in_channels=IN_CHANNELS, out_channels=OUT_CHANNELS, kernel_size=CONV_KERNEL_SIZE, stride=2, downsample=DOWNSAMPLE)\n",
        "y = block(x)\n",
        "print(f\"y shape (expected: 1 x 128 x 16 x 16)\\n{y.shape}\")"
      ]
    },
    {
      "cell_type": "markdown",
      "metadata": {
        "id": "X74BJ68sK884"
      },
      "source": [
        "## The ResNet18 Model\n",
        "\n",
        "Hyperparameters:\n",
        "- $C_i$ - number of channels in the $i$th layer\n",
        "- $F_i$ - filter size in the $i$th layer\n",
        "- $K_i$ - kernel size in the $i$th skip connection\n",
        "- $P$ - pool size in the average pool layer\n",
        "\n",
        "\n",
        "Forward-Pass Artichecture (note: the dimensions below are in the format *NumChannels x W x H*)\n",
        "\n",
        "1. First Weight Layer\n",
        "  - $Conv → BatchNorm → ReLU$\n",
        "  - Takes a *3 x 32 x 32* image as input\n",
        "  - Outputs a *$C_0$ x 32 x 32* image\n",
        "2. 4 Residual Layers (each composed of 2 Building Blocks)\n",
        "  - (1) Each Weight Layer outputs a *$C_1$ x 32 x 32* image\n",
        "  - (2) Each Weight Layer outputs a *$C_2$ x 16 x 16* image\n",
        "  - (3) Each Weight Layer ouptuts a *$C_3$ x 8 x 8* image\n",
        "  - (4) Each Weight Layer outputs a *$C_4$ x 4 x 4* image\n",
        "3. Avg Pooling Layer\n",
        "4. Fully Connected Layer\n",
        "\n",
        "\n"
      ]
    },
    {
      "cell_type": "code",
      "execution_count": 4,
      "metadata": {
        "id": "UTHzRZwZ-DC8"
      },
      "outputs": [],
      "source": [
        "class ResNet18(nn.Module):\n",
        "  def __init__(self, img_channels, num_classes, num_channels, conv_kernel_size, skip_kernel_size, pool_size):\n",
        "    super(ResNet18, self).__init__()\n",
        "\n",
        "    # First Weight Layer\n",
        "    self.conv1 = nn.Conv2d(in_channels=img_channels, out_channels=NUM_CHANNELS[0], kernel_size=conv_kernel_size[0], padding=1)\n",
        "    self.bn1 = nn.BatchNorm2d(NUM_CHANNELS[0])\n",
        "    self.relu = nn.ReLU(inplace=True)\n",
        "\n",
        "    # Residual Layers\n",
        "    self.layer1 = self._make_layer(in_channels=num_channels[0], out_channels=num_channels[1],\n",
        "                                   conv_kernel_size=conv_kernel_size[1], skip_kernel_size=skip_kernel_size[1])\n",
        "   \n",
        "    self.layer2 = self._make_layer(in_channels=num_channels[1], out_channels=num_channels[2],\n",
        "                                   conv_kernel_size=conv_kernel_size[2], skip_kernel_size=skip_kernel_size[2], stride=2)\n",
        "   \n",
        "    self.layer3 = self._make_layer(in_channels=num_channels[2], out_channels=num_channels[3],\n",
        "                                   conv_kernel_size=conv_kernel_size[3], skip_kernel_size=skip_kernel_size[3], stride=2)\n",
        "   \n",
        "    self.layer4 = self._make_layer(in_channels=num_channels[3], out_channels=num_channels[4],\n",
        "                                   conv_kernel_size=conv_kernel_size[4], skip_kernel_size=skip_kernel_size[4], stride=2)\n",
        "\n",
        "    # Remaining Layers\n",
        "    self.avgpool = nn.AvgPool2d(pool_size)\n",
        "\n",
        "\n",
        "    self.classifier = nn.Sequential(\n",
        "        nn.Dropout(p=0.5, inplace=False),\n",
        "        nn.Linear(num_channels[4], num_classes))\n",
        "\n",
        "\n",
        "    self.fc = nn.Linear(num_channels[4], num_classes)\n",
        "\n",
        "\n",
        "  def _make_layer(self, in_channels, out_channels, conv_kernel_size, skip_kernel_size, stride=1):\n",
        "    downsample = None\n",
        "    if stride > 1:\n",
        "      downsample = nn.Sequential(\n",
        "          nn.Conv2d(in_channels=in_channels, out_channels=out_channels, kernel_size=skip_kernel_size, stride=stride, bias=False),\n",
        "          nn.BatchNorm2d(out_channels)\n",
        "      )\n",
        "\n",
        "    block1 = BuildingBlock(in_channels=in_channels, out_channels=out_channels,\n",
        "                           kernel_size=conv_kernel_size, stride=stride, downsample=downsample)\n",
        "    \n",
        "    block2 = BuildingBlock(in_channels=out_channels, out_channels=out_channels,\n",
        "                           stride=1, kernel_size=conv_kernel_size, downsample=None)\n",
        "    \n",
        "    return nn.Sequential(block1, block2)\n",
        "\n",
        "  def forward(self, x):\n",
        "\n",
        "    # First Weight Layer\n",
        "    out = self.conv1(x)\n",
        "    out = self.bn1(out)\n",
        "    out = self.relu(out)\n",
        "\n",
        "    # Residual Layers\n",
        "    out = self.layer1(out)\n",
        "    out = self.layer2(out)\n",
        "    out = self.layer3(out)\n",
        "    out = self.layer4(out)\n",
        "\n",
        "    # Remaining Layers\n",
        "    out = self.avgpool(out)\n",
        "    out = torch.flatten(out, 1)\n",
        "    out = self.classifier(out)\n",
        "\n",
        "    return out"
      ]
    },
    {
      "cell_type": "markdown",
      "metadata": {
        "id": "bfto74R_nd-y"
      },
      "source": [
        "We will initialize our model and print out the summary with the number of trainable parameters."
      ]
    },
    {
      "cell_type": "code",
      "execution_count": 5,
      "metadata": {
        "colab": {
          "base_uri": "https://localhost:8080/"
        },
        "id": "iRfbh6w0ndPI",
        "outputId": "7fdaa861-5d27-407b-ee61-d76019197de1"
      },
      "outputs": [
        {
          "output_type": "execute_result",
          "data": {
            "text/plain": [
              "ResNet18(\n",
              "  (conv1): Conv2d(3, 64, kernel_size=(3, 3), stride=(1, 1), padding=(1, 1))\n",
              "  (bn1): BatchNorm2d(64, eps=1e-05, momentum=0.1, affine=True, track_running_stats=True)\n",
              "  (relu): ReLU(inplace=True)\n",
              "  (layer1): Sequential(\n",
              "    (0): BuildingBlock(\n",
              "      (conv1): Conv2d(64, 64, kernel_size=(3, 3), stride=(1, 1), padding=(1, 1))\n",
              "      (bn1): BatchNorm2d(64, eps=1e-05, momentum=0.1, affine=True, track_running_stats=True)\n",
              "      (relu1): ReLU(inplace=True)\n",
              "      (conv2): Conv2d(64, 64, kernel_size=(3, 3), stride=(1, 1), padding=(1, 1))\n",
              "      (bn2): BatchNorm2d(64, eps=1e-05, momentum=0.1, affine=True, track_running_stats=True)\n",
              "      (relu2): ReLU(inplace=True)\n",
              "    )\n",
              "    (1): BuildingBlock(\n",
              "      (conv1): Conv2d(64, 64, kernel_size=(3, 3), stride=(1, 1), padding=(1, 1))\n",
              "      (bn1): BatchNorm2d(64, eps=1e-05, momentum=0.1, affine=True, track_running_stats=True)\n",
              "      (relu1): ReLU(inplace=True)\n",
              "      (conv2): Conv2d(64, 64, kernel_size=(3, 3), stride=(1, 1), padding=(1, 1))\n",
              "      (bn2): BatchNorm2d(64, eps=1e-05, momentum=0.1, affine=True, track_running_stats=True)\n",
              "      (relu2): ReLU(inplace=True)\n",
              "    )\n",
              "  )\n",
              "  (layer2): Sequential(\n",
              "    (0): BuildingBlock(\n",
              "      (downsample): Sequential(\n",
              "        (0): Conv2d(64, 128, kernel_size=(1, 1), stride=(2, 2), bias=False)\n",
              "        (1): BatchNorm2d(128, eps=1e-05, momentum=0.1, affine=True, track_running_stats=True)\n",
              "      )\n",
              "      (conv1): Conv2d(64, 128, kernel_size=(3, 3), stride=(2, 2), padding=(1, 1))\n",
              "      (bn1): BatchNorm2d(128, eps=1e-05, momentum=0.1, affine=True, track_running_stats=True)\n",
              "      (relu1): ReLU(inplace=True)\n",
              "      (conv2): Conv2d(128, 128, kernel_size=(3, 3), stride=(1, 1), padding=(1, 1))\n",
              "      (bn2): BatchNorm2d(128, eps=1e-05, momentum=0.1, affine=True, track_running_stats=True)\n",
              "      (relu2): ReLU(inplace=True)\n",
              "    )\n",
              "    (1): BuildingBlock(\n",
              "      (conv1): Conv2d(128, 128, kernel_size=(3, 3), stride=(1, 1), padding=(1, 1))\n",
              "      (bn1): BatchNorm2d(128, eps=1e-05, momentum=0.1, affine=True, track_running_stats=True)\n",
              "      (relu1): ReLU(inplace=True)\n",
              "      (conv2): Conv2d(128, 128, kernel_size=(3, 3), stride=(1, 1), padding=(1, 1))\n",
              "      (bn2): BatchNorm2d(128, eps=1e-05, momentum=0.1, affine=True, track_running_stats=True)\n",
              "      (relu2): ReLU(inplace=True)\n",
              "    )\n",
              "  )\n",
              "  (layer3): Sequential(\n",
              "    (0): BuildingBlock(\n",
              "      (downsample): Sequential(\n",
              "        (0): Conv2d(128, 324, kernel_size=(1, 1), stride=(2, 2), bias=False)\n",
              "        (1): BatchNorm2d(324, eps=1e-05, momentum=0.1, affine=True, track_running_stats=True)\n",
              "      )\n",
              "      (conv1): Conv2d(128, 324, kernel_size=(3, 3), stride=(2, 2), padding=(1, 1))\n",
              "      (bn1): BatchNorm2d(324, eps=1e-05, momentum=0.1, affine=True, track_running_stats=True)\n",
              "      (relu1): ReLU(inplace=True)\n",
              "      (conv2): Conv2d(324, 324, kernel_size=(3, 3), stride=(1, 1), padding=(1, 1))\n",
              "      (bn2): BatchNorm2d(324, eps=1e-05, momentum=0.1, affine=True, track_running_stats=True)\n",
              "      (relu2): ReLU(inplace=True)\n",
              "    )\n",
              "    (1): BuildingBlock(\n",
              "      (conv1): Conv2d(324, 324, kernel_size=(3, 3), stride=(1, 1), padding=(1, 1))\n",
              "      (bn1): BatchNorm2d(324, eps=1e-05, momentum=0.1, affine=True, track_running_stats=True)\n",
              "      (relu1): ReLU(inplace=True)\n",
              "      (conv2): Conv2d(324, 324, kernel_size=(3, 3), stride=(1, 1), padding=(1, 1))\n",
              "      (bn2): BatchNorm2d(324, eps=1e-05, momentum=0.1, affine=True, track_running_stats=True)\n",
              "      (relu2): ReLU(inplace=True)\n",
              "    )\n",
              "  )\n",
              "  (layer4): Sequential(\n",
              "    (0): BuildingBlock(\n",
              "      (downsample): Sequential(\n",
              "        (0): Conv2d(324, 144, kernel_size=(1, 1), stride=(2, 2), bias=False)\n",
              "        (1): BatchNorm2d(144, eps=1e-05, momentum=0.1, affine=True, track_running_stats=True)\n",
              "      )\n",
              "      (conv1): Conv2d(324, 144, kernel_size=(3, 3), stride=(2, 2), padding=(1, 1))\n",
              "      (bn1): BatchNorm2d(144, eps=1e-05, momentum=0.1, affine=True, track_running_stats=True)\n",
              "      (relu1): ReLU(inplace=True)\n",
              "      (conv2): Conv2d(144, 144, kernel_size=(3, 3), stride=(1, 1), padding=(1, 1))\n",
              "      (bn2): BatchNorm2d(144, eps=1e-05, momentum=0.1, affine=True, track_running_stats=True)\n",
              "      (relu2): ReLU(inplace=True)\n",
              "    )\n",
              "    (1): BuildingBlock(\n",
              "      (conv1): Conv2d(144, 144, kernel_size=(3, 3), stride=(1, 1), padding=(1, 1))\n",
              "      (bn1): BatchNorm2d(144, eps=1e-05, momentum=0.1, affine=True, track_running_stats=True)\n",
              "      (relu1): ReLU(inplace=True)\n",
              "      (conv2): Conv2d(144, 144, kernel_size=(3, 3), stride=(1, 1), padding=(1, 1))\n",
              "      (bn2): BatchNorm2d(144, eps=1e-05, momentum=0.1, affine=True, track_running_stats=True)\n",
              "      (relu2): ReLU(inplace=True)\n",
              "    )\n",
              "  )\n",
              "  (avgpool): AvgPool2d(kernel_size=4, stride=4, padding=0)\n",
              "  (classifier): Sequential(\n",
              "    (0): Dropout(p=0.5, inplace=False)\n",
              "    (1): Linear(in_features=144, out_features=10, bias=True)\n",
              "  )\n",
              "  (fc): Linear(in_features=144, out_features=10, bias=True)\n",
              ")"
            ]
          },
          "metadata": {},
          "execution_count": 5
        }
      ],
      "source": [
        "device = torch.device('cuda' if torch.cuda.is_available() else 'cpu')\n",
        "\n",
        "IMG_CHANNELS = 3\n",
        "NUM_CLASSES = 10\n",
        "NUM_CHANNELS = [64, 64, 128, 324, 144]\n",
        "CONV_KERNEL_SIZE = [3, 3, 3, 3, 3]\n",
        "SKIP_KERNEL_SIZE = [0, 1, 1, 1, 1] # 0 index is not used for anything\n",
        "POOL_SIZE = 4\n",
        "\n",
        "model = ResNet18(img_channels=IMG_CHANNELS, num_classes=NUM_CLASSES,\n",
        "                 num_channels=NUM_CHANNELS, conv_kernel_size=CONV_KERNEL_SIZE,\n",
        "                 skip_kernel_size=SKIP_KERNEL_SIZE, pool_size=POOL_SIZE)\n",
        "\n",
        "model.to(device)"
      ]
    },
    {
      "cell_type": "code",
      "execution_count": 6,
      "metadata": {
        "colab": {
          "base_uri": "https://localhost:8080/"
        },
        "id": "w7KVFYuJhODh",
        "outputId": "3370fd65-de63-439a-d359-204927946b43"
      },
      "outputs": [
        {
          "output_type": "stream",
          "name": "stdout",
          "text": [
            "----------------------------------------------------------------\n",
            "        Layer (type)               Output Shape         Param #\n",
            "================================================================\n",
            "            Conv2d-1           [-1, 64, 32, 32]           1,792\n",
            "       BatchNorm2d-2           [-1, 64, 32, 32]             128\n",
            "              ReLU-3           [-1, 64, 32, 32]               0\n",
            "            Conv2d-4           [-1, 64, 32, 32]          36,928\n",
            "       BatchNorm2d-5           [-1, 64, 32, 32]             128\n",
            "              ReLU-6           [-1, 64, 32, 32]               0\n",
            "            Conv2d-7           [-1, 64, 32, 32]          36,928\n",
            "       BatchNorm2d-8           [-1, 64, 32, 32]             128\n",
            "              ReLU-9           [-1, 64, 32, 32]               0\n",
            "    BuildingBlock-10           [-1, 64, 32, 32]               0\n",
            "           Conv2d-11           [-1, 64, 32, 32]          36,928\n",
            "      BatchNorm2d-12           [-1, 64, 32, 32]             128\n",
            "             ReLU-13           [-1, 64, 32, 32]               0\n",
            "           Conv2d-14           [-1, 64, 32, 32]          36,928\n",
            "      BatchNorm2d-15           [-1, 64, 32, 32]             128\n",
            "             ReLU-16           [-1, 64, 32, 32]               0\n",
            "    BuildingBlock-17           [-1, 64, 32, 32]               0\n",
            "           Conv2d-18          [-1, 128, 16, 16]          73,856\n",
            "      BatchNorm2d-19          [-1, 128, 16, 16]             256\n",
            "             ReLU-20          [-1, 128, 16, 16]               0\n",
            "           Conv2d-21          [-1, 128, 16, 16]         147,584\n",
            "      BatchNorm2d-22          [-1, 128, 16, 16]             256\n",
            "           Conv2d-23          [-1, 128, 16, 16]           8,192\n",
            "      BatchNorm2d-24          [-1, 128, 16, 16]             256\n",
            "             ReLU-25          [-1, 128, 16, 16]               0\n",
            "    BuildingBlock-26          [-1, 128, 16, 16]               0\n",
            "           Conv2d-27          [-1, 128, 16, 16]         147,584\n",
            "      BatchNorm2d-28          [-1, 128, 16, 16]             256\n",
            "             ReLU-29          [-1, 128, 16, 16]               0\n",
            "           Conv2d-30          [-1, 128, 16, 16]         147,584\n",
            "      BatchNorm2d-31          [-1, 128, 16, 16]             256\n",
            "             ReLU-32          [-1, 128, 16, 16]               0\n",
            "    BuildingBlock-33          [-1, 128, 16, 16]               0\n",
            "           Conv2d-34            [-1, 324, 8, 8]         373,572\n",
            "      BatchNorm2d-35            [-1, 324, 8, 8]             648\n",
            "             ReLU-36            [-1, 324, 8, 8]               0\n",
            "           Conv2d-37            [-1, 324, 8, 8]         945,108\n",
            "      BatchNorm2d-38            [-1, 324, 8, 8]             648\n",
            "           Conv2d-39            [-1, 324, 8, 8]          41,472\n",
            "      BatchNorm2d-40            [-1, 324, 8, 8]             648\n",
            "             ReLU-41            [-1, 324, 8, 8]               0\n",
            "    BuildingBlock-42            [-1, 324, 8, 8]               0\n",
            "           Conv2d-43            [-1, 324, 8, 8]         945,108\n",
            "      BatchNorm2d-44            [-1, 324, 8, 8]             648\n",
            "             ReLU-45            [-1, 324, 8, 8]               0\n",
            "           Conv2d-46            [-1, 324, 8, 8]         945,108\n",
            "      BatchNorm2d-47            [-1, 324, 8, 8]             648\n",
            "             ReLU-48            [-1, 324, 8, 8]               0\n",
            "    BuildingBlock-49            [-1, 324, 8, 8]               0\n",
            "           Conv2d-50            [-1, 144, 4, 4]         420,048\n",
            "      BatchNorm2d-51            [-1, 144, 4, 4]             288\n",
            "             ReLU-52            [-1, 144, 4, 4]               0\n",
            "           Conv2d-53            [-1, 144, 4, 4]         186,768\n",
            "      BatchNorm2d-54            [-1, 144, 4, 4]             288\n",
            "           Conv2d-55            [-1, 144, 4, 4]          46,656\n",
            "      BatchNorm2d-56            [-1, 144, 4, 4]             288\n",
            "             ReLU-57            [-1, 144, 4, 4]               0\n",
            "    BuildingBlock-58            [-1, 144, 4, 4]               0\n",
            "           Conv2d-59            [-1, 144, 4, 4]         186,768\n",
            "      BatchNorm2d-60            [-1, 144, 4, 4]             288\n",
            "             ReLU-61            [-1, 144, 4, 4]               0\n",
            "           Conv2d-62            [-1, 144, 4, 4]         186,768\n",
            "      BatchNorm2d-63            [-1, 144, 4, 4]             288\n",
            "             ReLU-64            [-1, 144, 4, 4]               0\n",
            "    BuildingBlock-65            [-1, 144, 4, 4]               0\n",
            "        AvgPool2d-66            [-1, 144, 1, 1]               0\n",
            "          Dropout-67                  [-1, 144]               0\n",
            "           Linear-68                   [-1, 10]           1,450\n",
            "================================================================\n",
            "Total params: 4,959,730\n",
            "Trainable params: 4,959,730\n",
            "Non-trainable params: 0\n",
            "----------------------------------------------------------------\n",
            "Input size (MB): 0.01\n",
            "Forward/backward pass size (MB): 15.31\n",
            "Params size (MB): 18.92\n",
            "Estimated Total Size (MB): 34.25\n",
            "----------------------------------------------------------------\n"
          ]
        }
      ],
      "source": [
        "summary(model, (3, 32, 32))"
      ]
    },
    {
      "cell_type": "code",
      "execution_count": 7,
      "metadata": {
        "colab": {
          "base_uri": "https://localhost:8080/"
        },
        "id": "lVnUwR787rff",
        "outputId": "cfe5d58f-32d5-45d0-aae0-170580954aef"
      },
      "outputs": [
        {
          "output_type": "execute_result",
          "data": {
            "text/plain": [
              "ResNet18(\n",
              "  (conv1): Conv2d(3, 64, kernel_size=(3, 3), stride=(1, 1), padding=(1, 1))\n",
              "  (bn1): BatchNorm2d(64, eps=1e-05, momentum=0.1, affine=True, track_running_stats=True)\n",
              "  (relu): ReLU(inplace=True)\n",
              "  (layer1): Sequential(\n",
              "    (0): BuildingBlock(\n",
              "      (conv1): Conv2d(64, 64, kernel_size=(3, 3), stride=(1, 1), padding=(1, 1))\n",
              "      (bn1): BatchNorm2d(64, eps=1e-05, momentum=0.1, affine=True, track_running_stats=True)\n",
              "      (relu1): ReLU(inplace=True)\n",
              "      (conv2): Conv2d(64, 64, kernel_size=(3, 3), stride=(1, 1), padding=(1, 1))\n",
              "      (bn2): BatchNorm2d(64, eps=1e-05, momentum=0.1, affine=True, track_running_stats=True)\n",
              "      (relu2): ReLU(inplace=True)\n",
              "    )\n",
              "    (1): BuildingBlock(\n",
              "      (conv1): Conv2d(64, 64, kernel_size=(3, 3), stride=(1, 1), padding=(1, 1))\n",
              "      (bn1): BatchNorm2d(64, eps=1e-05, momentum=0.1, affine=True, track_running_stats=True)\n",
              "      (relu1): ReLU(inplace=True)\n",
              "      (conv2): Conv2d(64, 64, kernel_size=(3, 3), stride=(1, 1), padding=(1, 1))\n",
              "      (bn2): BatchNorm2d(64, eps=1e-05, momentum=0.1, affine=True, track_running_stats=True)\n",
              "      (relu2): ReLU(inplace=True)\n",
              "    )\n",
              "  )\n",
              "  (layer2): Sequential(\n",
              "    (0): BuildingBlock(\n",
              "      (downsample): Sequential(\n",
              "        (0): Conv2d(64, 128, kernel_size=(1, 1), stride=(2, 2), bias=False)\n",
              "        (1): BatchNorm2d(128, eps=1e-05, momentum=0.1, affine=True, track_running_stats=True)\n",
              "      )\n",
              "      (conv1): Conv2d(64, 128, kernel_size=(3, 3), stride=(2, 2), padding=(1, 1))\n",
              "      (bn1): BatchNorm2d(128, eps=1e-05, momentum=0.1, affine=True, track_running_stats=True)\n",
              "      (relu1): ReLU(inplace=True)\n",
              "      (conv2): Conv2d(128, 128, kernel_size=(3, 3), stride=(1, 1), padding=(1, 1))\n",
              "      (bn2): BatchNorm2d(128, eps=1e-05, momentum=0.1, affine=True, track_running_stats=True)\n",
              "      (relu2): ReLU(inplace=True)\n",
              "    )\n",
              "    (1): BuildingBlock(\n",
              "      (conv1): Conv2d(128, 128, kernel_size=(3, 3), stride=(1, 1), padding=(1, 1))\n",
              "      (bn1): BatchNorm2d(128, eps=1e-05, momentum=0.1, affine=True, track_running_stats=True)\n",
              "      (relu1): ReLU(inplace=True)\n",
              "      (conv2): Conv2d(128, 128, kernel_size=(3, 3), stride=(1, 1), padding=(1, 1))\n",
              "      (bn2): BatchNorm2d(128, eps=1e-05, momentum=0.1, affine=True, track_running_stats=True)\n",
              "      (relu2): ReLU(inplace=True)\n",
              "    )\n",
              "  )\n",
              "  (layer3): Sequential(\n",
              "    (0): BuildingBlock(\n",
              "      (downsample): Sequential(\n",
              "        (0): Conv2d(128, 324, kernel_size=(1, 1), stride=(2, 2), bias=False)\n",
              "        (1): BatchNorm2d(324, eps=1e-05, momentum=0.1, affine=True, track_running_stats=True)\n",
              "      )\n",
              "      (conv1): Conv2d(128, 324, kernel_size=(3, 3), stride=(2, 2), padding=(1, 1))\n",
              "      (bn1): BatchNorm2d(324, eps=1e-05, momentum=0.1, affine=True, track_running_stats=True)\n",
              "      (relu1): ReLU(inplace=True)\n",
              "      (conv2): Conv2d(324, 324, kernel_size=(3, 3), stride=(1, 1), padding=(1, 1))\n",
              "      (bn2): BatchNorm2d(324, eps=1e-05, momentum=0.1, affine=True, track_running_stats=True)\n",
              "      (relu2): ReLU(inplace=True)\n",
              "    )\n",
              "    (1): BuildingBlock(\n",
              "      (conv1): Conv2d(324, 324, kernel_size=(3, 3), stride=(1, 1), padding=(1, 1))\n",
              "      (bn1): BatchNorm2d(324, eps=1e-05, momentum=0.1, affine=True, track_running_stats=True)\n",
              "      (relu1): ReLU(inplace=True)\n",
              "      (conv2): Conv2d(324, 324, kernel_size=(3, 3), stride=(1, 1), padding=(1, 1))\n",
              "      (bn2): BatchNorm2d(324, eps=1e-05, momentum=0.1, affine=True, track_running_stats=True)\n",
              "      (relu2): ReLU(inplace=True)\n",
              "    )\n",
              "  )\n",
              "  (layer4): Sequential(\n",
              "    (0): BuildingBlock(\n",
              "      (downsample): Sequential(\n",
              "        (0): Conv2d(324, 144, kernel_size=(1, 1), stride=(2, 2), bias=False)\n",
              "        (1): BatchNorm2d(144, eps=1e-05, momentum=0.1, affine=True, track_running_stats=True)\n",
              "      )\n",
              "      (conv1): Conv2d(324, 144, kernel_size=(3, 3), stride=(2, 2), padding=(1, 1))\n",
              "      (bn1): BatchNorm2d(144, eps=1e-05, momentum=0.1, affine=True, track_running_stats=True)\n",
              "      (relu1): ReLU(inplace=True)\n",
              "      (conv2): Conv2d(144, 144, kernel_size=(3, 3), stride=(1, 1), padding=(1, 1))\n",
              "      (bn2): BatchNorm2d(144, eps=1e-05, momentum=0.1, affine=True, track_running_stats=True)\n",
              "      (relu2): ReLU(inplace=True)\n",
              "    )\n",
              "    (1): BuildingBlock(\n",
              "      (conv1): Conv2d(144, 144, kernel_size=(3, 3), stride=(1, 1), padding=(1, 1))\n",
              "      (bn1): BatchNorm2d(144, eps=1e-05, momentum=0.1, affine=True, track_running_stats=True)\n",
              "      (relu1): ReLU(inplace=True)\n",
              "      (conv2): Conv2d(144, 144, kernel_size=(3, 3), stride=(1, 1), padding=(1, 1))\n",
              "      (bn2): BatchNorm2d(144, eps=1e-05, momentum=0.1, affine=True, track_running_stats=True)\n",
              "      (relu2): ReLU(inplace=True)\n",
              "    )\n",
              "  )\n",
              "  (avgpool): AvgPool2d(kernel_size=4, stride=4, padding=0)\n",
              "  (classifier): Sequential(\n",
              "    (0): Dropout(p=0.5, inplace=False)\n",
              "    (1): Linear(in_features=144, out_features=10, bias=True)\n",
              "  )\n",
              "  (fc): Linear(in_features=144, out_features=10, bias=True)\n",
              ")"
            ]
          },
          "metadata": {},
          "execution_count": 7
        }
      ],
      "source": [
        "def initialize_parameters(m):\n",
        "    if isinstance(m, nn.Conv2d):\n",
        "        nn.init.kaiming_normal_(m.weight.data, nonlinearity = 'relu')\n",
        "        #nn.init.constant_(m.bias.data, 0)\n",
        "    elif isinstance(m, nn.Linear):\n",
        "        nn.init.xavier_normal_(m.weight.data, gain = nn.init.calculate_gain('relu'))\n",
        "        #nn.init.constant_(m.bias.data, 0)\n",
        "\n",
        "model.apply(initialize_parameters)"
      ]
    },
    {
      "cell_type": "markdown",
      "metadata": {
        "id": "aie0WiA--AYb"
      },
      "source": [
        "## Prepping the CIFAR-10 Dataset\n",
        "\n",
        "Now that we have defined our model, we will set up the data loaders and normalization for CIFAR-10 by following the tutorial in the Pytorch documentation and reusing parts of Homework 2 Question 4."
      ]
    },
    {
      "cell_type": "code",
      "execution_count": 8,
      "metadata": {
        "colab": {
          "base_uri": "https://localhost:8080/"
        },
        "id": "FBOIPlK9DRzb",
        "outputId": "a6d85934-df63-450d-f447-2ea33302d143"
      },
      "outputs": [
        {
          "output_type": "stream",
          "name": "stdout",
          "text": [
            "Downloading https://www.cs.toronto.edu/~kriz/cifar-10-python.tar.gz to ./data/cifar-10-python.tar.gz\n"
          ]
        },
        {
          "output_type": "stream",
          "name": "stderr",
          "text": [
            "100%|██████████| 170498071/170498071 [00:02<00:00, 80653558.09it/s] \n"
          ]
        },
        {
          "output_type": "stream",
          "name": "stdout",
          "text": [
            "Extracting ./data/cifar-10-python.tar.gz to ./data\n",
            "Files already downloaded and verified\n",
            "Files already downloaded and verified\n"
          ]
        }
      ],
      "source": [
        "train_data = datasets.CIFAR10(root='./data', train=True,\n",
        "                              download=True)\n",
        "\n",
        "\n",
        "means = train_data.data.mean(axis = (0,1,2)) / 255\n",
        "stds = train_data.data.std(axis = (0,1,2)) / 255\n",
        "\n",
        "train_tfm = transforms.Compose(\n",
        "    [transforms.RandomCrop(32, padding=2, padding_mode='reflect'), \n",
        "     transforms.RandomRotation(10),\n",
        "     transforms.RandomHorizontalFlip(0.5),\n",
        "     transforms.ToTensor(),\n",
        "     transforms.Normalize(mean = means, std = stds)])\n",
        "\n",
        "test_tfm = transforms.Compose([\n",
        "     transforms.ToTensor(),\n",
        "     transforms.Normalize(mean = means, std = stds)])\n",
        "\n",
        "#regular transform, apply data augmentation later\n",
        "train_data = datasets.CIFAR10(root='./data', train=True,\n",
        "                              download=True, transform = train_tfm)\n",
        "\n",
        "test_data = datasets.CIFAR10(root='./data', train=False,\n",
        "                             download=True, transform=test_tfm)\n",
        "\n",
        "\n",
        "\n",
        "\n",
        "classes = ('plane', 'car', 'bird', 'cat',\n",
        "           'deer', 'dog', 'frog', 'horse', 'ship', 'truck')"
      ]
    },
    {
      "cell_type": "code",
      "execution_count": 9,
      "metadata": {
        "id": "V7WZtH_2IKHd"
      },
      "outputs": [],
      "source": [
        "# Split the training data into training and validation sets\n",
        "import copy\n",
        "\n",
        "VALID_RATIO = 0.9\n",
        "\n",
        "n_train_examples = int(len(train_data) * VALID_RATIO)\n",
        "n_valid_examples = len(train_data) - n_train_examples\n",
        "\n",
        "train_data, valid_data = data.random_split(train_data, \n",
        "                                           [n_train_examples, n_valid_examples])\n",
        "\n",
        "valid_data = copy.deepcopy(valid_data)\n",
        "valid_data.dataset.transform = test_tfm"
      ]
    },
    {
      "cell_type": "code",
      "execution_count": 10,
      "metadata": {
        "id": "6bT6t-HJIHuM"
      },
      "outputs": [],
      "source": [
        "# Create the Data Loaders\n",
        "\n",
        "BATCH_SIZE = 64\n",
        "\n",
        "train_loader = data.DataLoader(train_data, batch_size=BATCH_SIZE,\n",
        "                              shuffle=True, num_workers=2)\n",
        "\n",
        "valid_loader = data.DataLoader(valid_data, batch_size=BATCH_SIZE,\n",
        "                               shuffle=False, num_workers=2)\n",
        "\n",
        "test_loader = data.DataLoader(test_data, batch_size=BATCH_SIZE,\n",
        "                             shuffle=False, num_workers=2)"
      ]
    },
    {
      "cell_type": "code",
      "execution_count": 11,
      "metadata": {
        "id": "dm33lmJjGm_X"
      },
      "outputs": [],
      "source": [
        "# Helper function to show images, code copied from online source\n",
        "\n",
        "def imshow(img):\n",
        "    img = img / 2 + 0.5     # unnormalize\n",
        "    npimg = img.numpy()\n",
        "    plt.imshow(np.transpose(npimg, (1, 2, 0)))\n",
        "    plt.show()"
      ]
    },
    {
      "cell_type": "markdown",
      "metadata": {
        "id": "UCZ2aOrRNHvp"
      },
      "source": [
        "We will test the helper function `imshow` on an image from the training set"
      ]
    },
    {
      "cell_type": "code",
      "execution_count": 12,
      "metadata": {
        "colab": {
          "base_uri": "https://localhost:8080/",
          "height": 482
        },
        "id": "JK17w3xFK6qr",
        "outputId": "bf483a04-da89-4b0e-ff4f-24f425faab5b"
      },
      "outputs": [
        {
          "output_type": "stream",
          "name": "stderr",
          "text": [
            "WARNING:matplotlib.image:Clipping input data to the valid range for imshow with RGB data ([0..1] for floats or [0..255] for integers).\n"
          ]
        },
        {
          "output_type": "stream",
          "name": "stdout",
          "text": [
            "torch.Size([3, 32, 32]) 7\n"
          ]
        },
        {
          "output_type": "display_data",
          "data": {
            "text/plain": [
              "<Figure size 640x480 with 1 Axes>"
            ],
            "image/png": "[encoded data removed]"
          },
          "metadata": {}
        },
        {
          "output_type": "stream",
          "name": "stdout",
          "text": [
            "horse\n"
          ]
        }
      ],
      "source": [
        "imgs, labels = next(iter(train_loader))\n",
        "img, label = imgs[0], labels[0].item()\n",
        "print(img.shape, label)\n",
        "\n",
        "imshow(img)\n",
        "print(classes[label])"
      ]
    },
    {
      "cell_type": "code",
      "execution_count": 13,
      "metadata": {
        "colab": {
          "base_uri": "https://localhost:8080/"
        },
        "id": "uio_NH2KpSGI",
        "outputId": "b72f5044-7899-41e5-c95e-dc21684f06ab"
      },
      "outputs": [
        {
          "output_type": "stream",
          "name": "stdout",
          "text": [
            "car\n"
          ]
        }
      ],
      "source": [
        "# Testing our model's class prediction on the image, with no training whatsoever\n",
        "\n",
        "x = img.unsqueeze(0).to(device)\n",
        "y_pred = model(x)\n",
        "class_pred = y_pred.argmax(1, keepdim=True).item()\n",
        "print(classes[class_pred])"
      ]
    },
    {
      "cell_type": "markdown",
      "metadata": {
        "id": "lgTqo9M8M6eW"
      },
      "source": [
        "## Training the Model\n",
        "\n",
        "- Optimizer: Adam\n",
        "- Loss Function: Cross Entropy Loss"
      ]
    },
    {
      "cell_type": "code",
      "execution_count": 14,
      "metadata": {
        "colab": {
          "base_uri": "https://localhost:8080/"
        },
        "id": "LbVBMM6sQ5m5",
        "outputId": "24a79892-d91e-4f70-9962-5f8150b66a9b"
      },
      "outputs": [
        {
          "output_type": "execute_result",
          "data": {
            "text/plain": [
              "CrossEntropyLoss()"
            ]
          },
          "metadata": {},
          "execution_count": 14
        }
      ],
      "source": [
        "LEARNING_RATE = 1e-3\n",
        "\n",
        "optimizer = optim.Adam(model.parameters(), lr=LEARNING_RATE)\n",
        "criterion = nn.CrossEntropyLoss()\n",
        "\n",
        "\n",
        "criterion.to(device)"
      ]
    },
    {
      "cell_type": "markdown",
      "metadata": {
        "id": "ch1jdXOpu2Ho"
      },
      "source": [
        "We will define some helper functions to aid in the training process. These are copied directly from Homework 2 Question 4."
      ]
    },
    {
      "cell_type": "code",
      "execution_count": 15,
      "metadata": {
        "id": "8VePEZX2rVAY"
      },
      "outputs": [],
      "source": [
        "def calculate_accuracy(y_pred, y):\n",
        "  top_pred = y_pred.argmax(1, keepdim = True)\n",
        "  correct = top_pred.eq(y.view_as(top_pred)).sum()\n",
        "  acc = correct.float() / y.shape[0]\n",
        "  return acc"
      ]
    },
    {
      "cell_type": "code",
      "execution_count": 16,
      "metadata": {
        "id": "PivSIVUmrfGC"
      },
      "outputs": [],
      "source": [
        "def train(model, iterator, optimizer, criterion, device):\n",
        "    \n",
        "    epoch_loss = 0\n",
        "    epoch_acc = 0\n",
        "    \n",
        "    model.train()\n",
        "    \n",
        "    for (x, y) in iterator:\n",
        "        \n",
        "        x = x.to(device)\n",
        "        y = y.to(device)\n",
        "        \n",
        "        optimizer.zero_grad()\n",
        "                \n",
        "        y_pred = model(x)\n",
        "        \n",
        "        loss = criterion(y_pred, y)\n",
        "        \n",
        "        acc = calculate_accuracy(y_pred, y)\n",
        "        \n",
        "        loss.backward()\n",
        "        \n",
        "        optimizer.step()\n",
        "        \n",
        "        epoch_loss += loss.item()\n",
        "        epoch_acc += acc.item()\n",
        "        \n",
        "    return epoch_loss / len(iterator), epoch_acc / len(iterator)"
      ]
    },
    {
      "cell_type": "code",
      "execution_count": 17,
      "metadata": {
        "id": "TcqAffdyuoR5"
      },
      "outputs": [],
      "source": [
        "def evaluate(model, iterator, criterion, device):\n",
        "\n",
        "    epoch_loss = 0\n",
        "    epoch_acc = 0\n",
        "    \n",
        "    model.eval()\n",
        "\n",
        "    with torch.no_grad():\n",
        "        \n",
        "        for (x, y) in iterator:\n",
        "\n",
        "            x = x.to(device)\n",
        "            y = y.to(device)\n",
        "\n",
        "            y_pred = model(x)\n",
        "\n",
        "            loss = criterion(y_pred, y)\n",
        "\n",
        "            acc = calculate_accuracy(y_pred, y)\n",
        "\n",
        "            epoch_loss += loss.item()\n",
        "            epoch_acc += acc.item()\n",
        "        \n",
        "    return epoch_loss / len(iterator), epoch_acc / len(iterator)"
      ]
    },
    {
      "cell_type": "code",
      "execution_count": 18,
      "metadata": {
        "id": "2RdVcMcCuqYj"
      },
      "outputs": [],
      "source": [
        "def epoch_time(start_time, end_time):\n",
        "    elapsed_time = end_time - start_time\n",
        "    elapsed_mins = int(elapsed_time / 60)\n",
        "    elapsed_secs = int(elapsed_time - (elapsed_mins * 60))\n",
        "    return elapsed_mins, elapsed_secs"
      ]
    },
    {
      "cell_type": "code",
      "execution_count": 19,
      "metadata": {
        "colab": {
          "base_uri": "https://localhost:8080/"
        },
        "id": "5gquD_5auzy0",
        "outputId": "d5637106-0610-4cfa-bd19-36ac70b426cf"
      },
      "outputs": [
        {
          "output_type": "stream",
          "name": "stdout",
          "text": [
            "Epoch # 0, Epoch Time: 0:42\n",
            "Training Loss = 1.676, Training Accuracy = 0.412\n",
            "Validation Loss = 1.128, Validation Accuracy = 0.599\n",
            "\n",
            "Epoch # 1, Epoch Time: 0:43\n",
            "Training Loss = 1.113, Training Accuracy = 0.609\n",
            "Validation Loss = 0.972, Validation Accuracy = 0.656\n",
            "\n",
            "Epoch # 2, Epoch Time: 0:43\n",
            "Training Loss = 0.899, Training Accuracy = 0.690\n",
            "Validation Loss = 0.683, Validation Accuracy = 0.751\n",
            "\n",
            "Epoch # 3, Epoch Time: 0:43\n",
            "Training Loss = 0.768, Training Accuracy = 0.737\n",
            "Validation Loss = 0.615, Validation Accuracy = 0.790\n",
            "\n",
            "Epoch # 4, Epoch Time: 0:42\n",
            "Training Loss = 0.670, Training Accuracy = 0.773\n",
            "Validation Loss = 0.595, Validation Accuracy = 0.797\n",
            "\n",
            "Epoch # 5, Epoch Time: 0:43\n",
            "Training Loss = 0.604, Training Accuracy = 0.795\n",
            "Validation Loss = 0.495, Validation Accuracy = 0.833\n",
            "\n",
            "Epoch # 6, Epoch Time: 0:42\n",
            "Training Loss = 0.551, Training Accuracy = 0.814\n",
            "Validation Loss = 0.481, Validation Accuracy = 0.829\n",
            "\n",
            "Epoch # 7, Epoch Time: 0:43\n",
            "Training Loss = 0.508, Training Accuracy = 0.828\n",
            "Validation Loss = 0.473, Validation Accuracy = 0.841\n",
            "\n",
            "Epoch # 8, Epoch Time: 0:42\n",
            "Training Loss = 0.477, Training Accuracy = 0.839\n",
            "Validation Loss = 0.446, Validation Accuracy = 0.855\n",
            "\n",
            "Epoch # 9, Epoch Time: 0:43\n",
            "Training Loss = 0.436, Training Accuracy = 0.853\n",
            "Validation Loss = 0.418, Validation Accuracy = 0.860\n",
            "\n",
            "Epoch # 10, Epoch Time: 0:42\n",
            "Training Loss = 0.405, Training Accuracy = 0.863\n",
            "Validation Loss = 0.360, Validation Accuracy = 0.873\n",
            "\n",
            "Epoch # 11, Epoch Time: 0:43\n",
            "Training Loss = 0.389, Training Accuracy = 0.869\n",
            "Validation Loss = 0.382, Validation Accuracy = 0.873\n",
            "\n",
            "Epoch # 12, Epoch Time: 0:42\n",
            "Training Loss = 0.358, Training Accuracy = 0.880\n",
            "Validation Loss = 0.370, Validation Accuracy = 0.873\n",
            "\n",
            "Epoch # 13, Epoch Time: 0:43\n",
            "Training Loss = 0.339, Training Accuracy = 0.885\n",
            "Validation Loss = 0.343, Validation Accuracy = 0.888\n",
            "\n",
            "Epoch # 14, Epoch Time: 0:42\n",
            "Training Loss = 0.329, Training Accuracy = 0.888\n",
            "Validation Loss = 0.330, Validation Accuracy = 0.890\n",
            "\n",
            "Epoch # 15, Epoch Time: 0:43\n",
            "Training Loss = 0.301, Training Accuracy = 0.899\n",
            "Validation Loss = 0.336, Validation Accuracy = 0.893\n",
            "\n",
            "Epoch # 16, Epoch Time: 0:42\n",
            "Training Loss = 0.283, Training Accuracy = 0.904\n",
            "Validation Loss = 0.304, Validation Accuracy = 0.901\n",
            "\n",
            "Epoch # 17, Epoch Time: 0:43\n",
            "Training Loss = 0.266, Training Accuracy = 0.910\n",
            "Validation Loss = 0.318, Validation Accuracy = 0.900\n",
            "\n",
            "Epoch # 18, Epoch Time: 0:42\n",
            "Training Loss = 0.256, Training Accuracy = 0.913\n",
            "Validation Loss = 0.314, Validation Accuracy = 0.901\n",
            "\n",
            "Epoch # 19, Epoch Time: 0:43\n",
            "Training Loss = 0.247, Training Accuracy = 0.916\n",
            "Validation Loss = 0.280, Validation Accuracy = 0.908\n",
            "\n",
            "Epoch # 20, Epoch Time: 0:42\n",
            "Training Loss = 0.231, Training Accuracy = 0.922\n",
            "Validation Loss = 0.299, Validation Accuracy = 0.901\n",
            "\n",
            "Epoch # 21, Epoch Time: 0:43\n",
            "Training Loss = 0.222, Training Accuracy = 0.925\n",
            "Validation Loss = 0.291, Validation Accuracy = 0.909\n",
            "\n",
            "Epoch # 22, Epoch Time: 0:42\n",
            "Training Loss = 0.207, Training Accuracy = 0.930\n",
            "Validation Loss = 0.297, Validation Accuracy = 0.910\n",
            "\n",
            "Epoch # 23, Epoch Time: 0:42\n",
            "Training Loss = 0.197, Training Accuracy = 0.933\n",
            "Validation Loss = 0.280, Validation Accuracy = 0.915\n",
            "\n",
            "Epoch # 24, Epoch Time: 0:42\n",
            "Training Loss = 0.185, Training Accuracy = 0.937\n",
            "Validation Loss = 0.278, Validation Accuracy = 0.912\n",
            "\n",
            "Epoch # 25, Epoch Time: 0:42\n",
            "Training Loss = 0.180, Training Accuracy = 0.939\n",
            "Validation Loss = 0.270, Validation Accuracy = 0.918\n",
            "\n",
            "Epoch # 26, Epoch Time: 0:42\n",
            "Training Loss = 0.177, Training Accuracy = 0.939\n",
            "Validation Loss = 0.295, Validation Accuracy = 0.917\n",
            "\n",
            "Epoch # 27, Epoch Time: 0:42\n",
            "Training Loss = 0.160, Training Accuracy = 0.944\n",
            "Validation Loss = 0.310, Validation Accuracy = 0.912\n",
            "\n",
            "Epoch # 28, Epoch Time: 0:42\n",
            "Training Loss = 0.155, Training Accuracy = 0.946\n",
            "Validation Loss = 0.292, Validation Accuracy = 0.916\n",
            "\n",
            "Epoch # 29, Epoch Time: 0:42\n",
            "Training Loss = 0.145, Training Accuracy = 0.949\n",
            "Validation Loss = 0.305, Validation Accuracy = 0.912\n",
            "\n"
          ]
        }
      ],
      "source": [
        "EPOCHS = 30\n",
        "\n",
        "train_loss_history = []\n",
        "valid_loss_history = []\n",
        "best_valid_loss = float('inf')\n",
        "\n",
        "for epoch in range(EPOCHS):\n",
        "  start_time = time.time()\n",
        "  train_loss, train_acc = train(model, train_loader, optimizer, criterion, device)\n",
        "  end_time = time.time()\n",
        "  valid_loss, valid_acc = evaluate(model, valid_loader, criterion, device)\n",
        "\n",
        "  train_loss_history.append(train_loss)\n",
        "  valid_loss_history.append(valid_loss)\n",
        "\n",
        "  train_time_min, train_time_sec = epoch_time(start_time, end_time)\n",
        "\n",
        "  print(f\"Epoch # {epoch}, Epoch Time: {train_time_min}:{train_time_sec}\")\n",
        "  print(f\"Training Loss = {train_loss:.3f}, Training Accuracy = {train_acc:.3f}\")\n",
        "  print(f\"Validation Loss = {valid_loss:.3f}, Validation Accuracy = {valid_acc:.3f}\")\n",
        "  print()\n",
        "\n",
        "  if valid_loss < best_valid_loss:\n",
        "    torch.save(model.state_dict(), './state.pt')\n",
        "    best_valid_loss = valid_loss"
      ]
    },
    {
      "cell_type": "code",
      "execution_count": 20,
      "metadata": {
        "colab": {
          "base_uri": "https://localhost:8080/",
          "height": 472
        },
        "id": "-x9IrP32EREr",
        "outputId": "1b713e62-8bdf-42c3-ec16-0b22aeb71ce3"
      },
      "outputs": [
        {
          "output_type": "display_data",
          "data": {
            "text/plain": [
              "<Figure size 640x480 with 1 Axes>"
            ],
            "image/png": "[encoded data removed]"
          },
          "metadata": {}
        }
      ],
      "source": [
        "# Plot our training and validation loss over time\n",
        "\n",
        "plt.plot(range(EPOCHS),train_loss_history,'-',linewidth=3,label='Train error')\n",
        "plt.plot(range(EPOCHS),valid_loss_history,'-',linewidth=3,label='Validation error')\n",
        "plt.xlabel('epoch')\n",
        "plt.ylabel('loss')\n",
        "plt.title('Error tracking')\n",
        "plt.grid(True)\n",
        "plt.legend()\n",
        "plt.show()"
      ]
    },
    {
      "cell_type": "markdown",
      "metadata": {
        "id": "4pPOH4ipCwB8"
      },
      "source": [
        "# Evaluating the model\n",
        "\n",
        "\n",
        "We will load the parameters of our model that achieved the best validation loss and measure the test accuracy"
      ]
    },
    {
      "cell_type": "code",
      "execution_count": 21,
      "metadata": {
        "colab": {
          "base_uri": "https://localhost:8080/"
        },
        "id": "9m__LLu58RQn",
        "outputId": "f2b237eb-bf92-43da-d95c-89eadef43020"
      },
      "outputs": [
        {
          "output_type": "stream",
          "name": "stdout",
          "text": [
            "Test Accuracy: 0.908\n"
          ]
        }
      ],
      "source": [
        "test_loss, test_acc = evaluate(model, test_loader, criterion, device)\n",
        "print(f\"Test Accuracy: {test_acc:.3f}\")"
      ]
    },
    {
      "cell_type": "code",
      "execution_count": 22,
      "metadata": {
        "colab": {
          "base_uri": "https://localhost:8080/"
        },
        "id": "WpnavpiHkOqq",
        "outputId": "f5e35e02-29de-4612-c538-3c04e574fc79"
      },
      "outputs": [
        {
          "output_type": "stream",
          "name": "stdout",
          "text": [
            "0.001 64\n"
          ]
        }
      ],
      "source": [
        "print(LEARNING_RATE, BATCH_SIZE)"
      ]
    },
    {
      "cell_type": "code",
      "execution_count": 23,
      "metadata": {
        "id": "fORgBEldD6Ao"
      },
      "outputs": [],
      "source": [
        "def get_predictions(model, iterator, device):\n",
        "\n",
        "    model.eval()\n",
        "\n",
        "    labels = []\n",
        "    probs = []\n",
        "\n",
        "    with torch.no_grad():\n",
        "      \n",
        "        for (x, y) in iterator:\n",
        "\n",
        "            x = x.to(device)\n",
        "            y = y.to(device)\n",
        "\n",
        "            y_pred = model(x)\n",
        "\n",
        "            labels.append(y)\n",
        "            probs.append(y_pred)\n",
        "\n",
        "\n",
        "    labels = torch.cat(labels, dim = 0)\n",
        "    probs = torch.cat(probs, dim = 0)\n",
        "    \n",
        "    return labels.cpu().numpy(), probs"
      ]
    },
    {
      "cell_type": "code",
      "execution_count": 24,
      "metadata": {
        "id": "Qb7Bpur6UFTR"
      },
      "outputs": [],
      "source": [
        "import gc\n",
        "import torch\n",
        "gc.collect()\n",
        "torch.cuda.empty_cache()"
      ]
    },
    {
      "cell_type": "code",
      "execution_count": 25,
      "metadata": {
        "colab": {
          "base_uri": "https://localhost:8080/"
        },
        "id": "_brXuNS_D6lZ",
        "outputId": "e498c174-cd66-4a5b-efb3-d03251b2fcaa"
      },
      "outputs": [
        {
          "output_type": "stream",
          "name": "stdout",
          "text": [
            "[3 8 8 ... 5 1 7]\n"
          ]
        }
      ],
      "source": [
        "labels, probs = get_predictions(model, test_loader, device)\n",
        "pred_labels = torch.argmax(probs.cpu(), 1).numpy()\n",
        "\n",
        "print(pred_labels)"
      ]
    },
    {
      "cell_type": "code",
      "execution_count": 26,
      "metadata": {
        "id": "6WS3xKVR5i4S"
      },
      "outputs": [],
      "source": [
        "classes = test_data.classes"
      ]
    },
    {
      "cell_type": "code",
      "execution_count": 27,
      "metadata": {
        "id": "HEdojh7ro2jI"
      },
      "outputs": [],
      "source": [
        "\n",
        "from sklearn.metrics import confusion_matrix\n",
        "from sklearn.metrics import ConfusionMatrixDisplay\n",
        "\n",
        "def plot_confusion_matrix(labels, pred_labels, classes):\n",
        "    \n",
        "    fig = plt.figure(figsize = (10, 10));\n",
        "    ax = fig.add_subplot(1, 1, 1);\n",
        "    plt.title('Confusion Matrix - CIFAR10 dataset')\n",
        "    cm = confusion_matrix(labels, pred_labels);\n",
        "    cm = ConfusionMatrixDisplay(cm, display_labels = classes);\n",
        "    cm.plot(values_format = 'd', cmap = 'Blues', ax = ax)\n",
        "    plt.xticks(rotation = 20)"
      ]
    },
    {
      "cell_type": "code",
      "execution_count": 28,
      "metadata": {
        "colab": {
          "base_uri": "https://localhost:8080/",
          "height": 815
        },
        "id": "m2-Y9ZaA5R4O",
        "outputId": "6a9eb9e3-e2a7-4580-ddcb-cc5219c5d27c"
      },
      "outputs": [
        {
          "output_type": "display_data",
          "data": {
            "text/plain": [
              "<Figure size 1000x1000 with 2 Axes>"
            ],
            "image/png": "[encoded data removed]"
          },
          "metadata": {}
        }
      ],
      "source": [
        "plot_confusion_matrix(labels, pred_labels, classes) "
      ]
    },
    {
      "cell_type": "code",
      "execution_count": 28,
      "metadata": {
        "id": "Wu37l57KXXdq"
      },
      "outputs": [],
      "source": []
    }
  ],
  "metadata": {
    "accelerator": "GPU",
    "colab": {
      "provenance": []
    },
    "gpuClass": "standard",
    "kernelspec": {
      "display_name": "Python 3",
      "name": "python3"
    },
    "language_info": {
      "name": "python"
    }
  },
  "nbformat": 4,
  "nbformat_minor": 0
}